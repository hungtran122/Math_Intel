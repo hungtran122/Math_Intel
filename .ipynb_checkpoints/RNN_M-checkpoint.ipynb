{
 "cells": [
  {
   "cell_type": "raw",
   "metadata": {},
   "source": [
    "# Import libraries"
   ]
  },
  {
   "cell_type": "code",
   "execution_count": 65,
   "metadata": {
    "collapsed": true
   },
   "outputs": [],
   "source": [
    "import numpy as np\n",
    "import platform\n",
    "import os\n",
    "from six.moves import xrange  \n",
    "import time"
   ]
  },
  {
   "cell_type": "code",
   "execution_count": 101,
   "metadata": {
    "collapsed": true
   },
   "outputs": [],
   "source": [
    "class RNNModel:\n",
    "    def __init__(self):\n",
    "        self.hidden_size = 100\n",
    "        self.learning_rate = 1e-1\n",
    "        self.seq_length = 30    \n",
    "        self.data_size = 0\n",
    "        self.vocab_size = 0\n",
    "    def read_data(self):\n",
    "        start = time.time()    \n",
    "        if platform.system() == 'Linux':\n",
    "                filename = os.getcwd() + '/Data/LoR_full'\n",
    "        else:\n",
    "            filename = os.getcwd() + '\\\\Data\\\\LoR_full'\n",
    "        data = open(filename,'r',encoding='utf-8').read()\n",
    "        # get characters\n",
    "        chars = list(set(data))\n",
    "        char_to_idx = {ch:idx for idx,ch in enumerate(chars)}\n",
    "        idx_to_char = {idx:ch for idx,ch in enumerate(chars)}\n",
    "        self.data_size = len(data)\n",
    "        self.vocab_size = len(chars)\n",
    "        print('Time to read data {:.2f}, length data {:},length characters {:}'.format(time.time() - start, self.data_size, self.vocab_size))\n",
    "        return data, chars, char_to_idx, idx_to_char\n",
    "    def generate_batch(self,data,char_to_idx,index):\n",
    "        if (index + 1 + self.seq_length) > len(data):\n",
    "            idx = 0\n",
    "        else:\n",
    "            idx = index\n",
    "        inputs = [char_to_idx[ch] for ch in data[idx:idx+self.seq_length]]\n",
    "        idx += 1\n",
    "        targets = [char_to_idx[ch] for ch in data[idx:idx+self.seq_length]]\n",
    "        return idx, inputs, targets\n",
    "    def create_weights(self):\n",
    "        hs = self.hidden_size\n",
    "        vs = self.vocab_size\n",
    "        Wx = np.random.randn(hs, vs) * 1.e-2\n",
    "        Wh = np.random.randn(hs,hs) * 1.e-2\n",
    "        Wy = np.random.randn(vs,hs) * 1.e-2\n",
    "        bh = (hs,1)\n",
    "        by = (vs,1)\n",
    "        return (Wx, Wh, Wy, bh, by)\n",
    "    def feed_forward(self):\n",
    "        "
   ]
  },
  {
   "cell_type": "code",
   "execution_count": 103,
   "metadata": {},
   "outputs": [
    {
     "name": "stdout",
     "output_type": "stream",
     "text": [
      "Time to read data 0.02, length data 1018412,length characters 82\n",
      "Sample of the first batch ['B', 'o', 'o', 'k', ' ', 'I', ' ', '\\n', '\\n', 'C', 'h', 'a', 'p', 't', 'e', 'r', ' ', '1', ' ', '\\n', 'C', 'h', 'a', 'p', 't', 'e', 'r', ' ', '2', ' ']\n",
      "[[ 0.0036281   0.0025586   0.00270831 ...,  0.00555848 -0.00565616\n",
      "   0.01577175]\n",
      " [ 0.00681389 -0.01869521  0.00271242 ...,  0.00715278 -0.00059249\n",
      "  -0.01209373]\n",
      " [ 0.01929882 -0.00986698  0.00345706 ..., -0.00341114 -0.00367164\n",
      "  -0.00066661]\n",
      " ..., \n",
      " [ 0.0264038  -0.00312893 -0.00419665 ...,  0.00431697 -0.00408765\n",
      "  -0.00831303]\n",
      " [-0.00916211 -0.00409686  0.00030434 ..., -0.00403316  0.01265853\n",
      "  -0.00129716]\n",
      " [-0.00369512 -0.01713635 -0.00077832 ..., -0.00305259 -0.01001024\n",
      "  -0.01176984]]\n"
     ]
    }
   ],
   "source": [
    "if __name__ == \"__main__\":\n",
    "    model = RNNModel()\n",
    "    data, chars, char_to_idx, idx_to_char = model.read_data()\n",
    "    idx, inputs, targets = model.generate_batch(data,char_to_idx,0)\n",
    "    print('Sample of the first batch', [_ for _ in [idx_to_char[idx] for idx in inputs]])\n",
    "    (Wx,Wh,Wy,bh,by) = model.create_weights()"
   ]
  },
  {
   "cell_type": "code",
   "execution_count": null,
   "metadata": {
    "collapsed": true
   },
   "outputs": [],
   "source": []
  },
  {
   "cell_type": "code",
   "execution_count": null,
   "metadata": {
    "collapsed": true
   },
   "outputs": [],
   "source": []
  },
  {
   "cell_type": "code",
   "execution_count": null,
   "metadata": {
    "collapsed": true
   },
   "outputs": [],
   "source": []
  }
 ],
 "metadata": {
  "kernelspec": {
   "display_name": "Python 3",
   "language": "python",
   "name": "python3"
  },
  "language_info": {
   "codemirror_mode": {
    "name": "ipython",
    "version": 3
   },
   "file_extension": ".py",
   "mimetype": "text/x-python",
   "name": "python",
   "nbconvert_exporter": "python",
   "pygments_lexer": "ipython3",
   "version": "3.6.1"
  }
 },
 "nbformat": 4,
 "nbformat_minor": 2
}
